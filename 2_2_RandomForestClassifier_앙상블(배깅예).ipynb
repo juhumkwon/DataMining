{
  "nbformat": 4,
  "nbformat_minor": 0,
  "metadata": {
    "colab": {
      "provenance": [],
      "authorship_tag": "ABX9TyNMNTHmFNiE2Y/AmSvyJaMV",
      "include_colab_link": true
    },
    "kernelspec": {
      "name": "python3",
      "display_name": "Python 3"
    },
    "language_info": {
      "name": "python"
    }
  },
  "cells": [
    {
      "cell_type": "markdown",
      "metadata": {
        "id": "view-in-github",
        "colab_type": "text"
      },
      "source": [
        "<a href=\"https://colab.research.google.com/github/juhumkwon/DataMining/blob/main/2_2_RandomForestClassifier_%EC%95%99%EC%83%81%EB%B8%94(%EB%B0%B0%EA%B9%85%EC%98%88).ipynb\" target=\"_parent\"><img src=\"https://colab.research.google.com/assets/colab-badge.svg\" alt=\"Open In Colab\"/></a>"
      ]
    },
    {
      "cell_type": "code",
      "execution_count": 1,
      "metadata": {
        "colab": {
          "base_uri": "https://localhost:8080/"
        },
        "id": "HAHG98Cfgkw_",
        "outputId": "d1a71063-1388-4542-9e77-32c3f7e4e96e"
      },
      "outputs": [
        {
          "output_type": "stream",
          "name": "stdout",
          "text": [
            "모델의 정확도: 100.00%\n"
          ]
        }
      ],
      "source": [
        "import numpy as np\n",
        "import pandas as pd\n",
        "from sklearn.model_selection import train_test_split\n",
        "from sklearn.datasets import load_iris\n",
        "from sklearn.ensemble import RandomForestClassifier\n",
        "from sklearn.metrics import accuracy_score\n",
        "\n",
        "# Iris 데이터셋 로드\n",
        "data = load_iris()\n",
        "X = data.data  # 특성 (Features)\n",
        "y = data.target  # 레이블 (Labels)\n",
        "\n",
        "# 학습용 데이터와 테스트용 데이터로 나누기\n",
        "X_train, X_test, y_train, y_test = train_test_split(X, y, test_size=0.3, random_state=42)\n",
        "\n",
        "# 랜덤 포레스트 모델 생성 (배깅을 활용한 모델)\n",
        "# 랜덤 포레스트는 배깅을 활용한 알고리즘이기 때문에, 사실 배깅은 모델의 내부 구현에서 자동으로 처리된다.\n",
        "rf_model = RandomForestClassifier(n_estimators=100, random_state=42)  # 트리 개수: 100\n",
        "\n",
        "# 모델 훈련\n",
        "rf_model.fit(X_train, y_train)\n",
        "\n",
        "# 테스트 데이터에 대해 예측\n",
        "y_pred = rf_model.predict(X_test)\n",
        "\n",
        "# 정확도 평가\n",
        "accuracy = accuracy_score(y_test, y_pred)\n",
        "print(f'모델의 정확도: {accuracy * 100:.2f}%')\n"
      ]
    }
  ]
}