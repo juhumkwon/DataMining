{
  "nbformat": 4,
  "nbformat_minor": 0,
  "metadata": {
    "colab": {
      "provenance": [],
      "authorship_tag": "ABX9TyO3spClG5/G4kbby7hCbnuf",
      "include_colab_link": true
    },
    "kernelspec": {
      "name": "python3",
      "display_name": "Python 3"
    },
    "language_info": {
      "name": "python"
    }
  },
  "cells": [
    {
      "cell_type": "markdown",
      "metadata": {
        "id": "view-in-github",
        "colab_type": "text"
      },
      "source": [
        "<a href=\"https://colab.research.google.com/github/juhumkwon/DataMining/blob/main/5_1_%EC%97%B0%EA%B4%80%EA%B7%9C%EC%B9%99(FP_Growth).ipynb\" target=\"_parent\"><img src=\"https://colab.research.google.com/assets/colab-badge.svg\" alt=\"Open In Colab\"/></a>"
      ]
    },
    {
      "cell_type": "code",
      "execution_count": 8,
      "metadata": {
        "colab": {
          "base_uri": "https://localhost:8080/"
        },
        "id": "h6cui51PPxox",
        "outputId": "08eec123-3242-4457-fb69-ff8388e38584"
      },
      "outputs": [
        {
          "output_type": "stream",
          "name": "stdout",
          "text": [
            "One-Hot Encoded 거래 데이터:\n",
            "      버터      빵     우유\n",
            "0   True   True   True\n",
            "1   True   True  False\n",
            "2  False   True   True\n",
            "3   True  False  False\n",
            "\n",
            "빈발 항목 집합:\n",
            "   support itemsets\n",
            "0     0.75      (빵)\n",
            "1     0.75     (버터)\n",
            "2     0.50     (우유)\n",
            "3     0.50  (빵, 버터)\n",
            "4     0.50  (우유, 빵)\n",
            "\n",
            "연관 규칙:\n",
            "  antecedents consequents  support  confidence      lift\n",
            "0        (우유)         (빵)      0.5    1.000000  1.333333\n",
            "1         (빵)        (우유)      0.5    0.666667  1.333333\n"
          ]
        },
        {
          "output_type": "stream",
          "name": "stderr",
          "text": [
            "/usr/local/lib/python3.10/dist-packages/ipykernel/ipkernel.py:283: DeprecationWarning: `should_run_async` will not call `transform_cell` automatically in the future. Please pass the result to `transformed_cell` argument and any exception that happen during thetransform in `preprocessing_exc_tuple` in IPython 7.17 and above.\n",
            "  and should_run_async(code)\n"
          ]
        }
      ],
      "source": [
        "from mlxtend.frequent_patterns import fpgrowth, association_rules\n",
        "from mlxtend.preprocessing import TransactionEncoder\n",
        "import pandas as pd\n",
        "\n",
        "# 거래 데이터\n",
        "transactions = [\n",
        "    ['우유', '빵', '버터'],\n",
        "    ['빵', '버터'],\n",
        "    ['우유', '빵'],\n",
        "    ['버터']\n",
        "]\n",
        "\n",
        "# 원-핫 인코딩\n",
        "te = TransactionEncoder()\n",
        "te_array = te.fit(transactions).transform(transactions)\n",
        "df = pd.DataFrame(te_array, columns=te.columns_)\n",
        "\n",
        "# FP-Growth 알고리즘으로 빈발 항목 집합 계산\n",
        "frequent_itemsets = fpgrowth(df, min_support=0.5, use_colnames=True)\n",
        "\n",
        "# 연관 규칙 생성\n",
        "# The num_itemsets argument is added here, calculated as the length of the frequent_itemsets DataFrame\n",
        "rules = association_rules(frequent_itemsets, metric=\"lift\", min_threshold=1, num_itemsets=len(frequent_itemsets))\n",
        "# rules = association_rules(frequent_itemsets, metric=\"confidence\", min_threshold=0.7, num_itemsets=len(transactions)) #, support_only=False) # If you only need the rule support, set support_only=True\n",
        "\n",
        "\n",
        "# 결과 출력\n",
        "\"\"\"\n",
        "print(\"Frequent Itemsets:\\n\", frequent_itemsets)\n",
        "print(\"\\nAssociation Rules:\\n\", rules)\n",
        "\"\"\"\n",
        "print(\"One-Hot Encoded 거래 데이터:\")\n",
        "print(df)\n",
        "print(\"\\n빈발 항목 집합:\")\n",
        "print(frequent_itemsets)\n",
        "print(\"\\n연관 규칙:\")\n",
        "print(rules[['antecedents', 'consequents', 'support', 'confidence', 'lift']])\n",
        "\n"
      ]
    }
  ]
}