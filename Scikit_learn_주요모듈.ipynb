{
  "nbformat": 4,
  "nbformat_minor": 0,
  "metadata": {
    "colab": {
      "provenance": [],
      "authorship_tag": "ABX9TyPQW1KFEWP6AzC8g6RtayEx",
      "include_colab_link": true
    },
    "kernelspec": {
      "name": "python3",
      "display_name": "Python 3"
    },
    "language_info": {
      "name": "python"
    }
  },
  "cells": [
    {
      "cell_type": "markdown",
      "metadata": {
        "id": "view-in-github",
        "colab_type": "text"
      },
      "source": [
        "<a href=\"https://colab.research.google.com/github/juhumkwon/DataMining/blob/main/Scikit_learn_%EC%A3%BC%EC%9A%94%EB%AA%A8%EB%93%88.ipynb\" target=\"_parent\"><img src=\"https://colab.research.google.com/assets/colab-badge.svg\" alt=\"Open In Colab\"/></a>"
      ]
    },
    {
      "cell_type": "code",
      "execution_count": 1,
      "metadata": {
        "colab": {
          "base_uri": "https://localhost:8080/"
        },
        "id": "8StgP0c0qXJy",
        "outputId": "00fa8c85-5132-49d6-f8b6-df3884d1e248"
      },
      "outputs": [
        {
          "output_type": "stream",
          "name": "stdout",
          "text": [
            "Prediction for 5: [5.2]\n"
          ]
        }
      ],
      "source": [
        "# 선형회귀\n",
        "\n",
        "from sklearn.linear_model import LinearRegression\n",
        "import numpy as np\n",
        "\n",
        "# 데이터 생성\n",
        "X = np.array([[1], [2], [3], [4]])\n",
        "y = np.array([2.2, 2.8, 3.6, 4.5])\n",
        "\n",
        "# 모델 학습\n",
        "model = LinearRegression()\n",
        "model.fit(X, y)\n",
        "\n",
        "# 예측\n",
        "y_pred = model.predict([[5]])\n",
        "print(f\"Prediction for 5: {y_pred}\")\n"
      ]
    }
  ]
}