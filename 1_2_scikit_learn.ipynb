{
  "nbformat": 4,
  "nbformat_minor": 0,
  "metadata": {
    "colab": {
      "provenance": [],
      "name": "1.2_scikit-learn.ipynb",
      "authorship_tag": "ABX9TyN9ZbJN/dyvIkerxru3dV0R",
      "include_colab_link": true
    },
    "kernelspec": {
      "name": "python3",
      "display_name": "Python 3"
    },
    "language_info": {
      "name": "python"
    }
  },
  "cells": [
    {
      "cell_type": "markdown",
      "metadata": {
        "id": "view-in-github",
        "colab_type": "text"
      },
      "source": [
        "<a href=\"https://colab.research.google.com/github/juhumkwon/DataMining/blob/main/1_2_scikit_learn.ipynb\" target=\"_parent\"><img src=\"https://colab.research.google.com/assets/colab-badge.svg\" alt=\"Open In Colab\"/></a>"
      ]
    },
    {
      "cell_type": "code",
      "execution_count": null,
      "metadata": {
        "colab": {
          "base_uri": "https://localhost:8080/"
        },
        "id": "8StgP0c0qXJy",
        "outputId": "ec1bb69d-dc80-42a7-d06d-321e1d1e0cc7"
      },
      "outputs": [
        {
          "output_type": "stream",
          "name": "stdout",
          "text": [
            "   sepal length (cm)  sepal width (cm)  petal length (cm)  petal width (cm)  \\\n",
            "0                5.1               3.5                1.4               0.2   \n",
            "1                4.9               3.0                1.4               0.2   \n",
            "2                4.7               3.2                1.3               0.2   \n",
            "3                4.6               3.1                1.5               0.2   \n",
            "4                5.0               3.6                1.4               0.2   \n",
            "\n",
            "   target  \n",
            "0       0  \n",
            "1       0  \n",
            "2       0  \n",
            "3       0  \n",
            "4       0  \n"
          ]
        }
      ],
      "source": [
        "#Iris 데이터 로드\n",
        "\n",
        "from sklearn.datasets import load_iris\n",
        "import pandas as pd\n",
        "\n",
        "# 데이터 로드\n",
        "iris = load_iris()\n",
        "df = pd.DataFrame(data=iris.data, columns=iris.feature_names)\n",
        "df['target'] = iris.target\n",
        "print(df.head())"
      ]
    },
    {
      "cell_type": "code",
      "source": [
        "#preprocessing\n",
        "\"\"\"\n",
        "주요 기능\n",
        "스케일링: StandardScaler, MinMaxScaler\n",
        "인코딩: LabelEncoder, OneHotEncoder\n",
        "from sklearn.preprocessing import StandardScaler\n",
        "import numpy as np\n",
        "\"\"\"\n",
        "from sklearn.preprocessing import StandardScaler\n",
        "import numpy as np\n",
        "\n",
        "# 데이터 생성\n",
        "data = np.array([[1, 2, 3], [4, 5, 6], [7, 8, 9]])\n",
        "\n",
        "# 표준화\n",
        "scaler = StandardScaler()\n",
        "scaled_data = scaler.fit_transform(data)\n",
        "print(scaled_data)\n"
      ],
      "metadata": {
        "colab": {
          "base_uri": "https://localhost:8080/"
        },
        "id": "j0rO71LDrdcu",
        "outputId": "59533c35-b945-4043-aedd-51378c1cef88"
      },
      "execution_count": null,
      "outputs": [
        {
          "output_type": "stream",
          "name": "stdout",
          "text": [
            "[[-1.22474487 -1.22474487 -1.22474487]\n",
            " [ 0.          0.          0.        ]\n",
            " [ 1.22474487  1.22474487  1.22474487]]\n"
          ]
        }
      ]
    },
    {
      "cell_type": "code",
      "source": [
        "#model_selection\n",
        "\"\"\"\n",
        "train_test_split: 데이터를 학습/테스트 세트로 분리\n",
        "cross_val_score: 교차 검증 점수 계산\n",
        "\"\"\"\n",
        "\n",
        "from sklearn.model_selection import train_test_split\n",
        "\n",
        "# 데이터 생성\n",
        "X = [[1, 2], [3, 4], [5, 6], [7, 8]]\n",
        "y = [0, 1, 0, 1]\n",
        "\n",
        "# 학습/테스트 데이터 분리\n",
        "X_train, X_test, y_train, y_test = train_test_split(X, y, test_size=0.25, random_state=42)\n",
        "print(\"Train:\", X_train, y_train)\n",
        "print(\"Test:\", X_test, y_test)\n"
      ],
      "metadata": {
        "colab": {
          "base_uri": "https://localhost:8080/"
        },
        "id": "IXNrlTyir_-Z",
        "outputId": "d7fcf306-d32c-4919-8e67-5cfbd4474793"
      },
      "execution_count": null,
      "outputs": [
        {
          "output_type": "stream",
          "name": "stdout",
          "text": [
            "Train: [[7, 8], [1, 2], [5, 6]] [1, 0, 0]\n",
            "Test: [[3, 4]] [1]\n"
          ]
        }
      ]
    },
    {
      "cell_type": "code",
      "source": [
        "#metrics\n",
        "\"\"\"\n",
        "분류: accuracy_score, confusion_matrix\n",
        "회귀: mean_squared_error, r2_score\n",
        "\"\"\"\n",
        "\n",
        "from sklearn.metrics import accuracy_score\n",
        "\n",
        "# 실제 값과 예측 값\n",
        "y_true = [0, 1, 1, 0]\n",
        "y_pred = [0, 1, 0, 0]\n",
        "\n",
        "# 정확도 계산\n",
        "accuracy = accuracy_score(y_true, y_pred)\n",
        "print(f\"Accuracy: {accuracy}\")\n"
      ],
      "metadata": {
        "colab": {
          "base_uri": "https://localhost:8080/"
        },
        "id": "ENytgxmIsLR6",
        "outputId": "902fae2c-2749-4dbd-80c8-469a0e3aa985"
      },
      "execution_count": null,
      "outputs": [
        {
          "output_type": "stream",
          "name": "stdout",
          "text": [
            "Accuracy: 0.75\n"
          ]
        }
      ]
    },
    {
      "cell_type": "code",
      "source": [
        "#선형 회귀\n",
        "from sklearn.linear_model import LinearRegression\n",
        "import numpy as np\n",
        "\n",
        "\"\"\"\n",
        "LinearRegression: 선형 회귀\n",
        "LogisticRegression: 로지스틱 회귀\n",
        "\"\"\"\n",
        "\n",
        "# 데이터 생성\n",
        "X = np.array([[1], [2], [3], [4]])\n",
        "y = np.array([2.2, 2.8, 3.6, 4.5])\n",
        "\n",
        "# 모델 학습\n",
        "model = LinearRegression()\n",
        "model.fit(X, y)\n",
        "\n",
        "# 예측\n",
        "y_pred = model.predict([[5]])\n",
        "print(f\"Prediction for 5: {y_pred}\")\n"
      ],
      "metadata": {
        "colab": {
          "base_uri": "https://localhost:8080/"
        },
        "id": "Wml1jwxksaoe",
        "outputId": "52ec3ff5-370e-4fd5-84c6-5d664de38c0f"
      },
      "execution_count": null,
      "outputs": [
        {
          "output_type": "stream",
          "name": "stdout",
          "text": [
            "Prediction for 5: [5.2]\n"
          ]
        }
      ]
    },
    {
      "cell_type": "code",
      "source": [
        "# 앙상불 ensemble\n",
        "\"\"\"\n",
        "주요 모델\n",
        "RandomForestClassifier: 랜덤 포레스트\n",
        "GradientBoostingClassifier: 그래디언트 부스팅\n",
        "\"\"\"\n",
        "#랜덤 포레스트 에제\n",
        "\n",
        "from sklearn.ensemble import RandomForestClassifier\n",
        "\n",
        "# 데이터 생성\n",
        "X = [[1, 2], [3, 4], [5, 6], [7, 8]]\n",
        "y = [0, 1, 0, 1]\n",
        "\n",
        "# 모델 학습\n",
        "clf = RandomForestClassifier(n_estimators=10, random_state=42)\n",
        "clf.fit(X, y)\n",
        "\n",
        "# 예측\n",
        "print(clf.predict([[3, 4]]))\n"
      ],
      "metadata": {
        "colab": {
          "base_uri": "https://localhost:8080/"
        },
        "id": "wgi8mhDPspz5",
        "outputId": "b9a6f090-fc48-4eae-9cda-7b3d224a0a90"
      },
      "execution_count": null,
      "outputs": [
        {
          "output_type": "stream",
          "name": "stdout",
          "text": [
            "[1]\n"
          ]
        }
      ]
    },
    {
      "cell_type": "code",
      "source": [
        "#PCA: 주성분 분석\n",
        "\n",
        "from sklearn.decomposition import PCA\n",
        "import numpy as np\n",
        "\n",
        "# 데이터 생성\n",
        "X = np.array([[1, 2, 3], [4, 5, 6], [7, 8, 9]])\n",
        "\n",
        "# PCA 적용\n",
        "pca = PCA(n_components=2)\n",
        "X_reduced = pca.fit_transform(X)\n",
        "print(X_reduced)\n"
      ],
      "metadata": {
        "colab": {
          "base_uri": "https://localhost:8080/"
        },
        "id": "VUBQ-Q0ltCS1",
        "outputId": "541d2483-1de2-4610-a469-0ba2cfa28318"
      },
      "execution_count": null,
      "outputs": [
        {
          "output_type": "stream",
          "name": "stdout",
          "text": [
            "[[-5.19615242e+00 -2.56395025e-16]\n",
            " [ 0.00000000e+00 -0.00000000e+00]\n",
            " [ 5.19615242e+00 -2.56395025e-16]]\n"
          ]
        }
      ]
    },
    {
      "cell_type": "code",
      "source": [
        "#cluster\n",
        "\n",
        "from sklearn.cluster import KMeans\n",
        "import numpy as np\n",
        "\n",
        "# 데이터 생성\n",
        "X = np.array([[1, 2], [1, 4], [1, 0], [4, 2], [4, 4], [4, 0]])\n",
        "\n",
        "# KMeans 적용\n",
        "kmeans = KMeans(n_clusters=2, random_state=42)\n",
        "kmeans.fit(X)\n",
        "\n",
        "# 클러스터 할당\n",
        "print(kmeans.labels_)\n"
      ],
      "metadata": {
        "colab": {
          "base_uri": "https://localhost:8080/"
        },
        "id": "hWEOMQIPtKqD",
        "outputId": "ba61a2b7-87ff-4da3-9f87-bb63b202e33f"
      },
      "execution_count": null,
      "outputs": [
        {
          "output_type": "stream",
          "name": "stdout",
          "text": [
            "[0 1 0 1 1 0]\n"
          ]
        }
      ]
    },
    {
      "cell_type": "code",
      "source": [
        "\n",
        "\n"
      ],
      "metadata": {
        "id": "jMxJtbJfrIev"
      },
      "execution_count": null,
      "outputs": []
    }
  ]
}