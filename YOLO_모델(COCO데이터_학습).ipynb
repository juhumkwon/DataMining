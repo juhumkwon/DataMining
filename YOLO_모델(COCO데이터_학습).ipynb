{
  "nbformat": 4,
  "nbformat_minor": 0,
  "metadata": {
    "colab": {
      "provenance": [],
      "authorship_tag": "ABX9TyPRf60oH08qMn4EqhANSCYb",
      "include_colab_link": true
    },
    "kernelspec": {
      "name": "python3",
      "display_name": "Python 3"
    },
    "language_info": {
      "name": "python"
    }
  },
  "cells": [
    {
      "cell_type": "markdown",
      "metadata": {
        "id": "view-in-github",
        "colab_type": "text"
      },
      "source": [
        "<a href=\"https://colab.research.google.com/github/juhumkwon/DataMining/blob/main/YOLO_%EB%AA%A8%EB%8D%B8(COCO%EB%8D%B0%EC%9D%B4%ED%84%B0_%ED%95%99%EC%8A%B5).ipynb\" target=\"_parent\"><img src=\"https://colab.research.google.com/assets/colab-badge.svg\" alt=\"Open In Colab\"/></a>"
      ]
    },
    {
      "cell_type": "code",
      "execution_count": null,
      "metadata": {
        "id": "LWLgx9ZaTgIo"
      },
      "outputs": [],
      "source": [
        "# TensorFlow 기반 YOLO 모델\n",
        "\n",
        "import tensorflow as tf\n",
        "import tensorflow_datasets as tfds\n",
        "\n",
        "# 간단한 YOLO 모델 정의\n",
        "class SimpleYOLO(tf.keras.Model):\n",
        "    def __init__(self, num_classes):\n",
        "        super(SimpleYOLO, self).__init__()\n",
        "        self.backbone = tf.keras.Sequential([\n",
        "            tf.keras.layers.Conv2D(16, (3, 3), strides=1, padding=\"same\", activation=\"relu\"),\n",
        "            tf.keras.layers.MaxPooling2D((2, 2)),\n",
        "            tf.keras.layers.Conv2D(32, (3, 3), strides=1, padding=\"same\", activation=\"relu\"),\n",
        "            tf.keras.layers.MaxPooling2D((2, 2)),\n",
        "            tf.keras.layers.Conv2D(64, (3, 3), strides=1, padding=\"same\", activation=\"relu\"),\n",
        "            tf.keras.layers.MaxPooling2D((2, 2)),\n",
        "        ])\n",
        "        self.flatten = tf.keras.layers.Flatten()\n",
        "        self.fc = tf.keras.Sequential([\n",
        "            tf.keras.layers.Dense(256, activation=\"relu\"),\n",
        "            tf.keras.layers.Dense(num_classes * 5, activation=\"linear\")  # 4 bbox + 1 confidence per class\n",
        "        ])\n",
        "\n",
        "    def call(self, inputs):\n",
        "        x = self.backbone(inputs)\n",
        "        x = self.flatten(x)\n",
        "        return self.fc(x)\n",
        "\n",
        "# COCO 데이터셋 로드 및 전처리\n",
        "def preprocess_coco(image, annotations):\n",
        "    image = tf.image.resize(image, (64, 64)) / 255.0  # 이미지를 64x64 크기로 리사이즈하고 정규화\n",
        "    # annotations를 모델에 맞게 변환 필요 (예제에서는 생략)\n",
        "    return image, tf.zeros((80 * 5,))  # 80 클래스 기준, 더미 타겟 반환\n",
        "\n",
        "def get_coco_dataset(batch_size=8):\n",
        "    dataset, _ = tfds.load(\"coco/2017\", split=\"train\", data_dir=\"./tensorflow_datasets\", with_info=True)\n",
        "    dataset = dataset.map(lambda x: preprocess_coco(x[\"image\"], x[\"objects\"]))\n",
        "    dataset = dataset.batch(batch_size).prefetch(tf.data.AUTOTUNE)\n",
        "    return dataset\n",
        "\n",
        "# 모델 학습 루프\n",
        "def train_model():\n",
        "    num_classes = 80  # COCO 데이터셋 클래스 수\n",
        "    model = SimpleYOLO(num_classes)\n",
        "\n",
        "    # 손실 함수 및 옵티마이저 설정\n",
        "    loss_fn = tf.keras.losses.MeanSquaredError()\n",
        "    optimizer = tf.keras.optimizers.Adam(learning_rate=0.001)\n",
        "\n",
        "    # 데이터셋 로드\n",
        "    dataset = get_coco_dataset()\n",
        "\n",
        "    # 모델 컴파일 및 학습\n",
        "    model.compile(optimizer=optimizer, loss=loss_fn)\n",
        "    model.fit(dataset, epochs=5)\n",
        "\n",
        "# 실행\n",
        "if __name__ == \"__main__\":\n",
        "    train_model()\n"
      ]
    }
  ]
}